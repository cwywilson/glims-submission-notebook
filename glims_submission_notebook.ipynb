{
  "cells": [
    {
      "cell_type": "markdown",
      "id": "b71c3610",
      "metadata": {},
      "source": [
        "\n",
        "# Prepare glacier outlines + center-lines for submission to GLIMS\n",
        "#### Author: Wilson Cheung, May 2025\n",
        " "
      ]
    },
    {
      "cell_type": "code",
      "execution_count": 16,
      "id": "e21fd3b1",
      "metadata": {},
      "outputs": [],
      "source": [
        "import geopandas as gpd\n",
        "from pathlib import Path\n",
        "from shapely.geometry import MultiPolygon\n",
        "from shapely.ops import unary_union, orient\n",
        "from shapely.validation import make_valid"
      ]
    },
    {
      "cell_type": "code",
      "execution_count": null,
      "id": "22ec8239",
      "metadata": {},
      "outputs": [],
      "source": [
        "# USER INPUT BLOCK  ✏️\n",
        "glacier_name = \"Turner\"  # name of the glacier\n",
        "\n",
        "# input folders\n",
        "base_dir   = Path(\"dummy_data\")   # outlines\n",
        "center_dir = Path(\"dummy_data\")   # centre-lines\n",
        "\n",
        "# output folder (will be created if absent)\n",
        "out_dir    = Path(\"dummy_output\") / glacier_name\n",
        "out_dir.mkdir(parents=True, exist_ok=True)\n",
        "\n",
        "# file paths\n",
        "outline58_fp = base_dir   / f\"{glacier_name}1958.shp\"\n",
        "outline23_fp = base_dir   / f\"{glacier_name}2023.shp\"\n",
        "cl58_fp      = center_dir / f\"{glacier_name}1958_Centerlines_smooth.shp\"\n",
        "cl23_fp      = center_dir / f\"{glacier_name}2023_Centerlines_smooth.shp\"\n",
        "\n",
        "meta1958 = dict(orig_id=\"A16817\", acq_time=\"1958-09-06\", inst_name=\"Historical Aerial Photo from  National Air Photo Library (NAPL)\")\n",
        "meta2023 = dict(orig_id=\"20230817_154317_42_2424\", acq_time=\"2023-08-17\", inst_name=\"PlanetScope Satellite Imagery\")\n",
        "\n",
        "analysis_info = dict(\n",
        "    analyst_name=\"Wilson (Wai Yin) Cheung\",\n",
        "    digitize_date=\"2023-09-20\",\n",
        "    method_desc=\"Manual digitization of glacier outlines using ArcGIS Pro, followed the guidelines established by Paul et al. (2017)\"\n",
        ")\n",
        "\n",
        "# 1958 uncertainty \n",
        "UNC58_LOC  = 2    # metres   \n",
        "UNC58_GLOB = 0.05\n",
        "\n",
        "# 2023 uncertainty (PlanetScope scene)\n",
        "UNC23_LOC  = 1.5     # metres\n",
        "UNC23_GLOB = 7"
      ]
    },
    {
      "cell_type": "code",
      "execution_count": null,
      "id": "5c42b99d",
      "metadata": {},
      "outputs": [],
      "source": [
        "def read_vector(path):                            # read + sanity CRS\n",
        "    gdf = gpd.read_file(path)\n",
        "    if gdf.crs is None:\n",
        "        raise ValueError(f\"{path} has no CRS defined.\")\n",
        "    return gdf\n",
        "\n",
        "def fix_polygons(gdf):                            # validity + CCW\n",
        "    repaired = []\n",
        "    for geom in gdf.geometry:\n",
        "        if not geom.is_valid:\n",
        "            geom = make_valid(geom)\n",
        "        parts = geom.geoms if isinstance(geom, MultiPolygon) else [geom]\n",
        "        repaired.append(unary_union([orient(p, sign=1.) for p in parts]))\n",
        "    gdf = gdf.copy(); gdf.geometry = repaired\n",
        "    return gdf\n",
        "\n",
        "def to_wgs84(gdf):\n",
        "    return gdf.to_crs(4326) if gdf.crs.to_epsg() != 4326 else gdf\n",
        "\n",
        "def _fill(gdf, col, value):\n",
        "    \"\"\"Create col or replace NaN; keep existing non-NaN.\"\"\"\n",
        "    if col not in gdf.columns:\n",
        "        gdf[col] = value\n",
        "    else:\n",
        "        gdf[col] = gdf[col].fillna(value)\n",
        "\n",
        "def add_attrs(gdf, meta, loc_unc_val, glob_unc_val):\n",
        "    gdf = gdf[['geometry']].copy()  # Keep only the geometry column\n",
        "    for c in (\"loc_unc_x\", \"loc_unc_y\"):   _fill(gdf, c, loc_unc_val)\n",
        "    for c in (\"glob_unc_x\",\"glob_unc_y\"):  _fill(gdf, c, glob_unc_val)\n",
        "    gdf[\"glacier_name\"]       = glacier_name\n",
        "    gdf[\"orig_id\"]    = meta[\"orig_id\"]\n",
        "    gdf[\"acq_time\"]   = meta[\"acq_time\"]\n",
        "    gdf[\"inst_name\"]  = meta[\"inst_name\"]\n",
        "    gdf[\"analyst\"]       = analysis_info[\"analyst_name\"]\n",
        "    gdf[\"digitize_date\"] = analysis_info[\"digitize_date\"]\n",
        "    gdf[\"method\"]        = analysis_info[\"method_desc\"]\n",
        "    return gdf\n",
        "\n",
        "def prep_centerline(path, meta):\n",
        "    cl = to_wgs84(read_vector(path))\n",
        "    cl = cl[['geometry']].copy()  # keep only the geometry column\n",
        "    cl[\"glacier_name\"] = glacier_name\n",
        "    cl[\"line_type\"]    = \"centerline\"\n",
        "    cl[\"inst_name\"]    = meta[\"inst_name\"]\n",
        "    cl[\"author\"]       = \"Wilson (Wai Yin) Cheung\"\n",
        "    cl[\"method\"]       = \"The Open Global Glacier Model (OGGM) v1.6\"\n",
        "    return cl"
      ]
    },
    {
      "cell_type": "code",
      "execution_count": 19,
      "id": "3d8176bd",
      "metadata": {},
      "outputs": [
        {
          "name": "stdout",
          "output_type": "stream",
          "text": [
            "Attributes in outline58_fp:\n",
            "['Shape_Leng', 'Shape_Area', 'geometry']\n",
            "\n",
            "Attributes in outline23_fp:\n",
            "['Shape_Leng', 'Shape_Area', 'geometry']\n",
            "\n",
            "Attributes in cl58_fp:\n",
            "['RGIID', 'SEGMENT_ID', 'STRAHLER', 'OUTFLOW_ID', 'LE_SEGMENT', 'MAIN', 'geometry']\n",
            "\n",
            "Attributes in cl23_fp:\n",
            "['RGIID', 'SEGMENT_ID', 'STRAHLER', 'OUTFLOW_ID', 'LE_SEGMENT', 'MAIN', 'geometry']\n"
          ]
        }
      ],
      "source": [
        "# Read and print attribute columns for each shapefile\n",
        "gdf_outline58 = read_vector(outline58_fp)\n",
        "print(\"Attributes in outline58_fp:\")\n",
        "print(gdf_outline58.columns.tolist())\n",
        "\n",
        "gdf_outline23 = read_vector(outline23_fp)\n",
        "print(\"\\nAttributes in outline23_fp:\")\n",
        "print(gdf_outline23.columns.tolist())\n",
        "\n",
        "gdf_cl58 = read_vector(cl58_fp)\n",
        "print(\"\\nAttributes in cl58_fp:\")\n",
        "print(gdf_cl58.columns.tolist())\n",
        "\n",
        "gdf_cl23 = read_vector(cl23_fp)\n",
        "print(\"\\nAttributes in cl23_fp:\")\n",
        "print(gdf_cl23.columns.tolist())"
      ]
    },
    {
      "cell_type": "code",
      "execution_count": null,
      "metadata": {},
      "outputs": [],
      "source": [
        "# Visualize outlines and centerlines\n",
        "ax = gdf_outline58.plot(edgecolor='blue', facecolor='none', figsize=(8,8), label='1958 outline')\n",
        "gdf_outline23.plot(ax=ax, edgecolor='red', facecolor='none', label='2023 outline')\n",
        "gdf_cl58.plot(ax=ax, color='cyan', label='1958 centerline')\n",
        "gdf_cl23.plot(ax=ax, color='magenta', label='2023 centerline')\n",
        "ax.legend()\n",
        "ax.set_title('Dummy glacier data')"
      ]
    },
    {
      "cell_type": "code",
      "execution_count": 20,
      "id": "5d364034",
      "metadata": {},
      "outputs": [
        {
          "name": "stdout",
          "output_type": "stream",
          "text": [
            "Loading input layers …\n",
            "Repairing geometry & reprojecting …\n"
          ]
        }
      ],
      "source": [
        "# PROCESS\n",
        "print(\"Loading input layers …\")\n",
        "gdf58_raw = read_vector(outline58_fp)\n",
        "gdf23_raw = read_vector(outline23_fp)\n",
        "\n",
        "print(\"Repairing geometry & reprojecting …\")\n",
        "gdf58 = add_attrs(to_wgs84(fix_polygons(gdf58_raw)), meta1958,\n",
        "                  loc_unc_val=UNC58_LOC,  glob_unc_val=UNC58_GLOB)\n",
        "gdf23 = add_attrs(to_wgs84(fix_polygons(gdf23_raw)), meta2023,\n",
        "                  loc_unc_val=UNC23_LOC,  glob_unc_val=UNC23_GLOB)\n",
        "\n",
        "cl58  = prep_centerline(cl58_fp, meta1958)\n",
        "cl23  = prep_centerline(cl23_fp, meta2023)"
      ]
    },
    {
      "cell_type": "code",
      "execution_count": 21,
      "id": "6e0dda41",
      "metadata": {},
      "outputs": [
        {
          "name": "stdout",
          "output_type": "stream",
          "text": [
            "✔ wrote D:\\outputforGLIMS\\Fork\\Fork1959.shp\n",
            "✔ wrote D:\\outputforGLIMS\\Fork\\Fork2023.shp\n",
            "✔ wrote D:\\outputforGLIMS\\Fork\\Fork1959_centerline.shp\n",
            "✔ wrote D:\\outputforGLIMS\\Fork\\Fork2023_centerline.shp\n",
            "\n",
            "All four layers are GLIMS-ready and stored in D:\\outputforGLIMS\\Fork\n"
          ]
        },
        {
          "name": "stderr",
          "output_type": "stream",
          "text": [
            "C:\\Users\\WilsonSIRL5-MCY-E113\\AppData\\Local\\Temp\\ipykernel_18636\\3998575474.py:7: UserWarning: Column names longer than 10 characters will be truncated when saved to ESRI Shapefile.\n",
            "  gdf58.to_file(out58_fp); print(\"✔ wrote\", out58_fp)\n",
            "C:\\Users\\WilsonSIRL5-MCY-E113\\AppData\\Local\\Temp\\ipykernel_18636\\3998575474.py:8: UserWarning: Column names longer than 10 characters will be truncated when saved to ESRI Shapefile.\n",
            "  gdf23.to_file(out23_fp); print(\"✔ wrote\", out23_fp)\n",
            "C:\\Users\\WilsonSIRL5-MCY-E113\\AppData\\Local\\Temp\\ipykernel_18636\\3998575474.py:9: UserWarning: Column names longer than 10 characters will be truncated when saved to ESRI Shapefile.\n",
            "  cl58 .to_file(cl58_out); print(\"✔ wrote\", cl58_out)\n",
            "C:\\Users\\WilsonSIRL5-MCY-E113\\AppData\\Local\\Temp\\ipykernel_18636\\3998575474.py:10: UserWarning: Column names longer than 10 characters will be truncated when saved to ESRI Shapefile.\n",
            "  cl23 .to_file(cl23_out); print(\"✔ wrote\", cl23_out)\n"
          ]
        }
      ],
      "source": [
        "# EXPORT\n",
        "out58_fp = out_dir / f\"{glacier_name}1958.shp\"\n",
        "out23_fp = out_dir / f\"{glacier_name}2023.shp\"\n",
        "cl58_out = out_dir / f\"{glacier_name}1958_centerline.shp\"\n",
        "cl23_out = out_dir / f\"{glacier_name}2023_centerline.shp\"\n",
        "\n",
        "gdf58.to_file(out58_fp); print(\"✔ wrote\", out58_fp)\n",
        "gdf23.to_file(out23_fp); print(\"✔ wrote\", out23_fp)\n",
        "cl58 .to_file(cl58_out); print(\"✔ wrote\", cl58_out)\n",
        "cl23 .to_file(cl23_out); print(\"✔ wrote\", cl23_out)\n",
        "\n",
        "print(\"\\nAll four layers are GLIMS-ready and stored in\", out_dir)"
      ]
    },
    {
      "cell_type": "code",
      "execution_count": 22,
      "id": "02815f71",
      "metadata": {},
      "outputs": [
        {
          "name": "stdout",
          "output_type": "stream",
          "text": [
            "Columns for the 1958 outline output:\n",
            "['loc_unc_x', 'loc_unc_y', 'glob_unc_x', 'glob_unc_y', 'glacier_na', 'orig_id', 'acq_time', 'inst_name', 'analyst', 'digitize_d', 'method', 'geometry']\n",
            "\n",
            "Columns for the 2023 outline output:\n",
            "['loc_unc_x', 'loc_unc_y', 'glob_unc_x', 'glob_unc_y', 'glacier_na', 'orig_id', 'acq_time', 'inst_name', 'analyst', 'digitize_d', 'method', 'geometry']\n",
            "\n",
            "Columns for the 1958 centerline output:\n",
            "['glacier_na', 'line_type', 'inst_name', 'author', 'method', 'geometry']\n",
            "\n",
            "Columns for the 2023 centerline output:\n",
            "['glacier_na', 'line_type', 'inst_name', 'author', 'method', 'geometry']\n"
          ]
        }
      ],
      "source": [
        "# Read output shapefiles\n",
        "gdf_out_1958 = gpd.read_file(out58_fp)\n",
        "gdf_out_2023 = gpd.read_file(out23_fp)\n",
        "gdf_cl_out_1958 = gpd.read_file(cl58_out)\n",
        "gdf_cl_out_2023 = gpd.read_file(cl23_out)\n",
        "\n",
        "print(\"Columns for the 1958 outline output:\")\n",
        "print(gdf_out_1958.columns.tolist())\n",
        "\n",
        "print(\"\\nColumns for the 2023 outline output:\")\n",
        "print(gdf_out_2023.columns.tolist())\n",
        "\n",
        "print(\"\\nColumns for the 1958 centerline output:\")\n",
        "print(gdf_cl_out_1958.columns.tolist())\n",
        "\n",
        "print(\"\\nColumns for the 2023 centerline output:\")\n",
        "print(gdf_cl_out_2023.columns.tolist())"
      ]
    }
  ],
  "metadata": {
    "kernelspec": {
      "display_name": "base",
      "language": "python",
      "name": "python3"
    },
    "language_info": {
      "codemirror_mode": {
        "name": "ipython",
        "version": 3
      },
      "file_extension": ".py",
      "mimetype": "text/x-python",
      "name": "python",
      "nbconvert_exporter": "python",
      "pygments_lexer": "ipython3",
      "version": "3.11.5"
    }
  },
  "nbformat": 4,
  "nbformat_minor": 5
}
